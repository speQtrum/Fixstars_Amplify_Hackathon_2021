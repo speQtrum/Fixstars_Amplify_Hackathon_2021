{
  "nbformat": 4,
  "nbformat_minor": 0,
  "metadata": {
    "colab": {
      "name": "Submission.ipynb",
      "provenance": [],
      "collapsed_sections": [],
      "authorship_tag": "ABX9TyMBNf82E+0/R8Zk0AXdoco0",
      "include_colab_link": true
    },
    "kernelspec": {
      "name": "python3",
      "display_name": "Python 3"
    }
  },
  "cells": [
    {
      "cell_type": "markdown",
      "metadata": {
        "id": "view-in-github",
        "colab_type": "text"
      },
      "source": [
        "<a href=\"https://colab.research.google.com/github/speQtrum/Fixstars_Amplify_Hackathon_2021/blob/main/Submission.ipynb\" target=\"_parent\"><img src=\"https://colab.research.google.com/assets/colab-badge.svg\" alt=\"Open In Colab\"/></a>"
      ]
    },
    {
      "cell_type": "markdown",
      "metadata": {
        "id": "XRvX8PupG-9n"
      },
      "source": [
        "# **Even Odd Classification using Combinatorial Optimisation**\n",
        "The problem statement is to divide an array of integers in two subsets. One subset will have only Even numbers and the other will have only odd numbers. Though the problem is very easily solvable using conventional classical computers, but here a different formulation is introduced which is suitable for Ising devices like fixtars Amplify, D'wave or other providers like Hitachi or Fujitsu etc."
      ]
    },
    {
      "cell_type": "code",
      "metadata": {
        "id": "5rvcgjn0fudN"
      },
      "source": [
        "# #####################   Necessary Installations  ######################\n",
        "\n",
        "# !pip install amplify\n",
        "# !pip install amplify[extra]"
      ],
      "execution_count": 15,
      "outputs": []
    },
    {
      "cell_type": "code",
      "metadata": {
        "id": "g8tSxup4gLfA"
      },
      "source": [
        "#####################   Necessary Imports   ##########################\n",
        "\n",
        "import numpy as np\n",
        "import pandas as pd\n",
        "from amplify import BinaryPoly, BinaryMatrix, BinaryQuadraticModel, gen_symbols, Solver\n",
        "from amplify.client import FixstarsClient\n",
        "from amplify.client.ocean import DWaveSamplerClient, LeapHybridSamplerClient"
      ],
      "execution_count": 16,
      "outputs": []
    },
    {
      "cell_type": "markdown",
      "metadata": {
        "id": "yVIl8n3AKp4r"
      },
      "source": [
        "Here we are generating array of random integers within a range. One can put array of flexible length. For demnonstration purpose a small array (with repetative or non-repetative elements) is chosen. In this approach if we want to classify K numbers, then we will need K number of Logical Variables. Every number is associated with a binary variable, which can take value either 1 or 0."
      ]
    },
    {
      "cell_type": "code",
      "metadata": {
        "colab": {
          "base_uri": "https://localhost:8080/"
        },
        "id": "cejaA7YViGT5",
        "outputId": "18e9ac39-e0fb-4541-b570-ba38622fc135"
      },
      "source": [
        "n = 10 # number of inputs\n",
        "\n",
        "N = np.random.randint(1,100,n)\n",
        "print('Input numbers are:\\n',N)"
      ],
      "execution_count": 17,
      "outputs": [
        {
          "output_type": "stream",
          "text": [
            "Input numbers are:\n",
            " [12 55 58  4 82 95 50 78 24  4]\n"
          ],
          "name": "stdout"
        }
      ]
    },
    {
      "cell_type": "markdown",
      "metadata": {
        "id": "aoviU_R5LUto"
      },
      "source": [
        "### **QUBO matrix generation for the problem**\n",
        "Here we are importing **BinaryMatrix** method from amplify. Where i,j th element of the Binary matrix (or QUBO) will be,\n",
        "$$m_{ij}=(-1)^{(1+N_{i}+N_{j})}$$\n"
      ]
    },
    {
      "cell_type": "code",
      "metadata": {
        "id": "Jmlqar6cu4CK"
      },
      "source": [
        "##############  Defining QUBO function for QUBO generation from arbitrary array of integers  ##############\n",
        "\n",
        "def QUBO(N):\n",
        "    k = N.shape[0]\n",
        "    m = BinaryMatrix(k)\n",
        "    for i in range(k):\n",
        "        for j in range(i,k):\n",
        "            m[i,j] = (-1)**(1 + N[i] + N[j])\n",
        "    return m\n",
        "\n",
        "\n",
        "\n",
        "def Even_Odd_result(solution, numbers):  # Filters the even odd numbers from bitstring\n",
        "    S1, S2 = [], []\n",
        "    subsets = [S1, S2]\n",
        "\n",
        "    for i in range(len(solution)):\n",
        "        if solution[i] == 0:\n",
        "            S1.append(numbers[i])\n",
        "        elif solution[i] == 1:\n",
        "            S2.append(numbers[i])\n",
        "    \n",
        "    Label_Assignment(subsets)\n",
        "    print(\"\\nEven and Odd numbers are separated\")\n",
        "\n",
        "\n",
        "\n",
        "def Label_Assignment(subsets):\n",
        "    P = None\n",
        "    for i in range(len(subsets)):\n",
        "        if len(subsets[i]) != 0:\n",
        "            P = i\n",
        "\n",
        "    if subsets[P][0] %2 == 0:\n",
        "        even = subsets[P]\n",
        "        odd = subsets[1-P]\n",
        "    else:\n",
        "        odd = subsets[P]\n",
        "        even = subsets[1-P]\n",
        "    print(' Even numbers:',even)\n",
        "    print('  Odd numbers:',odd)\n",
        "\n",
        "\n",
        "\n",
        "\n",
        "def Best_solution(result):\n",
        "    sols = []\n",
        "    for i in range(len(result)):\n",
        "        y = result[i]\n",
        "        x = list(y.values.values())\n",
        "        e = y.energy\n",
        "        f = y.frequency\n",
        "        z = {'x':x,'energy':e,'frequency':f}\n",
        "        sols.append(z)\n",
        "    df = pd.DataFrame(sols)\n",
        "    i = int(df[['frequency']].idxmax())\n",
        "    X = sols[i]['x']\n",
        "    return X"
      ],
      "execution_count": 18,
      "outputs": []
    },
    {
      "cell_type": "code",
      "metadata": {
        "colab": {
          "base_uri": "https://localhost:8080/"
        },
        "id": "sT0s1OsnmZMi",
        "outputId": "a9576293-1962-4d6f-e723-e84854cc67f7"
      },
      "source": [
        "\n",
        "qubo = QUBO(N)\n",
        "print(\"       Our QUBO for the problem is:\\n\\n\",qubo.to_numpy())  # Prints QUBO matrix in Numpy array format"
      ],
      "execution_count": 19,
      "outputs": [
        {
          "output_type": "stream",
          "text": [
            "       Our QUBO for the problem is:\n",
            "\n",
            " [[-1.  1. -1. -1. -1.  1. -1. -1. -1. -1.]\n",
            " [ 0. -1.  1.  1.  1. -1.  1.  1.  1.  1.]\n",
            " [ 0.  0. -1. -1. -1.  1. -1. -1. -1. -1.]\n",
            " [ 0.  0.  0. -1. -1.  1. -1. -1. -1. -1.]\n",
            " [ 0.  0.  0.  0. -1.  1. -1. -1. -1. -1.]\n",
            " [ 0.  0.  0.  0.  0. -1.  1.  1.  1.  1.]\n",
            " [ 0.  0.  0.  0.  0.  0. -1. -1. -1. -1.]\n",
            " [ 0.  0.  0.  0.  0.  0.  0. -1. -1. -1.]\n",
            " [ 0.  0.  0.  0.  0.  0.  0.  0. -1. -1.]\n",
            " [ 0.  0.  0.  0.  0.  0.  0.  0.  0. -1.]]\n"
          ],
          "name": "stdout"
        }
      ]
    },
    {
      "cell_type": "markdown",
      "metadata": {
        "id": "t2qrnXGzOJkA"
      },
      "source": [
        "### **Creating client Object**\n",
        "Here we are setting up our Fixstars amplify solver with some intrinsic parameters."
      ]
    },
    {
      "cell_type": "code",
      "metadata": {
        "id": "pEAkxUgoN7mp"
      },
      "source": [
        "client = FixstarsClient()\n",
        "client.token = \"mBle_KURyYutT.NDbsTpovEeCWf-vScH\"\n",
        "client.parameters.timeout = 1000\n",
        "# client.parameters.outputs.duplicate = True  \n",
        "client.parameters.outputs.num_outputs = 0  "
      ],
      "execution_count": 20,
      "outputs": []
    },
    {
      "cell_type": "markdown",
      "metadata": {
        "id": "ZqkJIWi3OiMI"
      },
      "source": [
        "### **Solving QUBO with Amplify**\n",
        "The result will be a binary array of 0's and 1's. We can filter the input array of integers with respect to the binary array. Elements with value 1 will be in one subset and 0's will be in another subset. Finally we get 2 subsets, out of which one with all evens and other with all odd numbers.\\\n",
        "**But certainly we do not know which one is even subset and which one is odd**"
      ]
    },
    {
      "cell_type": "code",
      "metadata": {
        "colab": {
          "base_uri": "https://localhost:8080/"
        },
        "id": "Iy2QmoSFjerL",
        "outputId": "ff30b876-5d3a-4c54-8bc3-d907366b2c3e"
      },
      "source": [
        "################## Solution #########################\n",
        "model = BinaryQuadraticModel(qubo)\n",
        "\n",
        "\n",
        "solver = Solver(client)\n",
        "result = solver.solve(model)\n",
        "for solution in result:\n",
        "    print(f\"values = {list(solution.values.values())} energy = {solution.energy} frequency = {solution.frequency}\")\n",
        "\n",
        "best_solution = Best_solution(result)\n",
        "print('\\n\\nInput numbers:',N)\n",
        "Even_Odd_result(best_solution,N)"
      ],
      "execution_count": 21,
      "outputs": [
        {
          "output_type": "stream",
          "text": [
            "values = [1, 0, 1, 1, 1, 0, 1, 1, 1, 1] energy = -36.0 frequency = 1\n",
            "\n",
            "\n",
            "Input numbers: [12 55 58  4 82 95 50 78 24  4]\n",
            " Even numbers: [12, 58, 4, 82, 50, 78, 24, 4]\n",
            "  Odd numbers: [55, 95]\n",
            "\n",
            "Even and Odd numbers are separated\n"
          ],
          "name": "stdout"
        }
      ]
    },
    {
      "cell_type": "code",
      "metadata": {
        "colab": {
          "base_uri": "https://localhost:8080/"
        },
        "id": "1SyX9iIaj5NN",
        "outputId": "e23b60f1-7c2f-453a-b9e7-d889005f94a6"
      },
      "source": [
        "############# Solving with Dwave client  ##################\n",
        "\n",
        "\n",
        "\n",
        "client = DWaveSamplerClient()\n",
        "client.token = \"DEV-d1f6e1d1c38fbe9219ce7713e110736473b657a0\"\n",
        "client.solver = \"Advantage_system1.1\"\n",
        "client.parameters.num_reads = 1000 \n",
        "\n",
        "\n",
        "############   Solution   ######################\n",
        "solver = Solver(client)\n",
        "result1 = solver.solve(model)\n",
        "for solution in result1:\n",
        "    print(f\"nvalues = {list(solution.values.values())} energy = {solution.energy} frequency = {solution.frequency}\")\n",
        "\n",
        "best_solution = Best_solution(result)\n",
        "print('\\n\\nInput numbers:',N)\n",
        "Even_Odd_result(best_solution,N)"
      ],
      "execution_count": 22,
      "outputs": [
        {
          "output_type": "stream",
          "text": [
            "nvalues = [1, 0, 1, 1, 1, 0, 1, 1, 1, 1] energy = -36.0 frequency = 1000\n",
            "\n",
            "\n",
            "Input numbers: [12 55 58  4 82 95 50 78 24  4]\n",
            " Even numbers: [12, 58, 4, 82, 50, 78, 24, 4]\n",
            "  Odd numbers: [55, 95]\n",
            "\n",
            "Even and Odd numbers are separated\n"
          ],
          "name": "stdout"
        }
      ]
    },
    {
      "cell_type": "code",
      "metadata": {
        "colab": {
          "base_uri": "https://localhost:8080/"
        },
        "id": "Bky8hgm2r2s7",
        "outputId": "128293b2-e4d3-4731-dbe3-2b07f803dae1"
      },
      "source": [
        "############# Solving with Dwave hybrid client  ##################\n",
        "\n",
        "\n",
        "\n",
        "client = LeapHybridSamplerClient()\n",
        "client.token = \"DEV-d1f6e1d1c38fbe9219ce7713e110736473b657a0\"\n",
        "client.solver = \"hybrid_binary_quadratic_model_version2\"\n",
        "# client.parameters.time_limit = 3\n",
        "\n",
        "############   Solution   ######################\n",
        "solver = Solver(client)\n",
        "result = solver.solve(model)\n",
        "for solution in result:\n",
        "    print(f\"nvalues = {list(solution.values.values())} energy = {solution.energy} frequency = {solution.frequency}\")\n",
        "\n",
        "\n",
        "best_solution = Best_solution(result)\n",
        "print('\\n\\nInput numbers:',N)\n",
        "Even_Odd_result(best_solution,N)"
      ],
      "execution_count": 23,
      "outputs": [
        {
          "output_type": "stream",
          "text": [
            "nvalues = [1, 0, 1, 1, 1, 0, 1, 1, 1, 1] energy = -36.0 frequency = 1\n",
            "\n",
            "\n",
            "Input numbers: [12 55 58  4 82 95 50 78 24  4]\n",
            " Even numbers: [12, 58, 4, 82, 50, 78, 24, 4]\n",
            "  Odd numbers: [55, 95]\n",
            "\n",
            "Even and Odd numbers are separated\n"
          ],
          "name": "stdout"
        }
      ]
    },
    {
      "cell_type": "code",
      "metadata": {
        "id": "6nGfPlrya8oQ"
      },
      "source": [
        ""
      ],
      "execution_count": 23,
      "outputs": []
    }
  ]
}