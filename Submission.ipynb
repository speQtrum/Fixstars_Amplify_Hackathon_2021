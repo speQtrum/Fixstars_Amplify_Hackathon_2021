{
  "nbformat": 4,
  "nbformat_minor": 0,
  "metadata": {
    "colab": {
      "name": "Submission.ipynb",
      "provenance": [],
      "collapsed_sections": [],
      "authorship_tag": "ABX9TyOY90Bb4/sWVRbsnSWQ09Zl",
      "include_colab_link": true
    },
    "kernelspec": {
      "name": "python3",
      "display_name": "Python 3"
    }
  },
  "cells": [
    {
      "cell_type": "markdown",
      "metadata": {
        "id": "view-in-github",
        "colab_type": "text"
      },
      "source": [
        "<a href=\"https://colab.research.google.com/github/speQtrum/Fixstars_Amplify_Hackathon_2021/blob/main/Submission.ipynb\" target=\"_parent\"><img src=\"https://colab.research.google.com/assets/colab-badge.svg\" alt=\"Open In Colab\"/></a>"
      ]
    },
    {
      "cell_type": "markdown",
      "metadata": {
        "id": "XRvX8PupG-9n"
      },
      "source": [
        "# **Even Odd Classification using Combinatorial Optimisation**\n",
        "The problem statement is to divide an array of integers in two subsets. One subset will have only Even numbers and the other will have only odd numbers. Though the problem is very easily solvable using conventional classical computers, but here a different formulation is introduced which is suitable for Ising devices like fixtars Amplify, D'wave or other providers like Hitachi or Fujitsu etc."
      ]
    },
    {
      "cell_type": "code",
      "metadata": {
        "id": "5rvcgjn0fudN"
      },
      "source": [
        "# #####################   Necessary Installations  ######################\n",
        "\n",
        "# !pip install amplify\n",
        "# !pip install amplify[extra]"
      ],
      "execution_count": 339,
      "outputs": []
    },
    {
      "cell_type": "code",
      "metadata": {
        "id": "g8tSxup4gLfA"
      },
      "source": [
        "#####################   Necessary Imports   ##########################\n",
        "\n",
        "import numpy as np\n",
        "from amplify import BinaryPoly, BinaryMatrix, BinaryQuadraticModel, gen_symbols, Solver\n",
        "from amplify.client import FixstarsClient\n",
        "from amplify.client.ocean import DWaveSamplerClient, LeapHybridSamplerClient"
      ],
      "execution_count": 340,
      "outputs": []
    },
    {
      "cell_type": "markdown",
      "metadata": {
        "id": "yVIl8n3AKp4r"
      },
      "source": [
        "Here we are generating array of random integers within a range. One can put array of flexible length. For demnonstration purpose a small array (with repetative or non-repetative elements) is chosen. In this approach if we want to classify K numbers, then we will need K number of Logical Variables. Every number is associated with a binary variable, which can take value either 1 or 0."
      ]
    },
    {
      "cell_type": "code",
      "metadata": {
        "colab": {
          "base_uri": "https://localhost:8080/"
        },
        "id": "cejaA7YViGT5",
        "outputId": "e9ac0c64-c109-4492-8994-ce535f4c6349"
      },
      "source": [
        "n = 10 # number of inputs\n",
        "\n",
        "N = np.random.randint(1,100,n)\n",
        "print('Input numbers are:\\n',N,'\\n',N1,'\\n',N2)"
      ],
      "execution_count": 341,
      "outputs": [
        {
          "output_type": "stream",
          "text": [
            "Input numbers are:\n",
            " [45 96 10 39 62 83 81 86 41 30] \n",
            " [ 1  3  5  7  9 11 13 15 17 19] \n",
            " [ 2  4  6  8 10 12 14 16 18]\n"
          ],
          "name": "stdout"
        }
      ]
    },
    {
      "cell_type": "markdown",
      "metadata": {
        "id": "aoviU_R5LUto"
      },
      "source": [
        "### **QUBO matrix generation for the problem**\n",
        "Here we are importing **BinaryMatrix** method from amplify. Where i,j th element of the Binary matrix (or QUBO) will be,\n",
        "$$m_{ij}=(-1)^{(1+N_{i}+N_{j})}$$\n"
      ]
    },
    {
      "cell_type": "code",
      "metadata": {
        "colab": {
          "base_uri": "https://localhost:8080/"
        },
        "id": "sT0s1OsnmZMi",
        "outputId": "2469b3a0-5278-4940-ec39-8924742d1458"
      },
      "source": [
        "##############  Defining QUBO function for QUBO generation from arbitrary array of integers  ##############\n",
        "\n",
        "def QUBO(N):\n",
        "    k = N.shape[0]\n",
        "    m = BinaryMatrix(k)\n",
        "    for i in range(k):\n",
        "        for j in range(i,k):\n",
        "            m[i,j] = (-1)**(1 + N[i] + N[j])\n",
        "    return m\n",
        "\n",
        "\n",
        "qubo = QUBO(N)\n",
        "print(\"       Our QUBO for the problem is:\\n\\n\",qubo.to_numpy())  # Prints QUBO matrix in Numpy array format"
      ],
      "execution_count": 342,
      "outputs": [
        {
          "output_type": "stream",
          "text": [
            "       Our QUBO for the problem is:\n",
            "\n",
            " [[-1.  1.  1. -1.  1. -1. -1.  1. -1.  1.]\n",
            " [ 0. -1. -1.  1. -1.  1.  1. -1.  1. -1.]\n",
            " [ 0.  0. -1.  1. -1.  1.  1. -1.  1. -1.]\n",
            " [ 0.  0.  0. -1.  1. -1. -1.  1. -1.  1.]\n",
            " [ 0.  0.  0.  0. -1.  1.  1. -1.  1. -1.]\n",
            " [ 0.  0.  0.  0.  0. -1. -1.  1. -1.  1.]\n",
            " [ 0.  0.  0.  0.  0.  0. -1.  1. -1.  1.]\n",
            " [ 0.  0.  0.  0.  0.  0.  0. -1.  1. -1.]\n",
            " [ 0.  0.  0.  0.  0.  0.  0.  0. -1.  1.]\n",
            " [ 0.  0.  0.  0.  0.  0.  0.  0.  0. -1.]]\n"
          ],
          "name": "stdout"
        }
      ]
    },
    {
      "cell_type": "code",
      "metadata": {
        "id": "Jmlqar6cu4CK"
      },
      "source": [
        "def Even_Odd_result(solution, numbers):  # Filters the even odd numbers from bitstring\n",
        "    S1, S2 = [], []\n",
        "    subsets = [S1, S2]\n",
        "    P = None\n",
        "    for i in range(len(solution)):\n",
        "        if solution[i] == 0:\n",
        "            S1.append(numbers[i])\n",
        "        elif solution[i] == 1:\n",
        "            S2.append(numbers[i])\n",
        "###########################################\n",
        "    for i in range(len(subsets)):\n",
        "        if len(subsets[i]) != 0:\n",
        "            P = i\n",
        "\n",
        "    # print(subsets,P)\n",
        "    if subsets[P][0] %2 == 0:\n",
        "        even = subsets[P]\n",
        "        odd = subsets[1-P]#np.delete(N,even)#N.remove(even)\n",
        "    else:\n",
        "        odd = subsets[P]\n",
        "        even = subsets[1-P]#np.delete(N,odd)#N.remove(odd)\n",
        "\n",
        "\n",
        "    print('\\n\\nEven numbers :',even)\n",
        "    print(' Odd numbers :',odd)"
      ],
      "execution_count": 343,
      "outputs": []
    },
    {
      "cell_type": "markdown",
      "metadata": {
        "id": "t2qrnXGzOJkA"
      },
      "source": [
        "### **Creating client Object**\n",
        "Here we are setting up our Fixstars amplify solver with some intrinsic parameters."
      ]
    },
    {
      "cell_type": "code",
      "metadata": {
        "id": "pEAkxUgoN7mp"
      },
      "source": [
        "client = FixstarsClient()\n",
        "client.token = \"mBle_KURyYutT.NDbsTpovEeCWf-vScH\"\n",
        "client.parameters.timeout = 1000\n",
        "# client.parameters.outputs.duplicate = True  \n",
        "client.parameters.outputs.num_outputs = 0  "
      ],
      "execution_count": 344,
      "outputs": []
    },
    {
      "cell_type": "markdown",
      "metadata": {
        "id": "ZqkJIWi3OiMI"
      },
      "source": [
        "### **Solving QUBO with Amplify**\n",
        "The result will be a binary array of 0's and 1's. We can filter the input array of integers with respect to the binary array. Elements with value 1 will be in one subset and 0's will be in another subset. Finally we get 2 subsets, out of which one with all evens and other with all odd numbers.\\\n",
        "**But certainly we do not know which one is even subset and which one is odd**"
      ]
    },
    {
      "cell_type": "code",
      "metadata": {
        "colab": {
          "base_uri": "https://localhost:8080/"
        },
        "id": "Iy2QmoSFjerL",
        "outputId": "901e06ce-4a3c-49bf-f104-965ae11b4d1b"
      },
      "source": [
        "################## Solution #########################\n",
        "model = BinaryQuadraticModel(qubo)\n",
        "\n",
        "\n",
        "solver = Solver(client)\n",
        "result = solver.solve(model)\n",
        "for solution in result:\n",
        "    print(f\"values = {list(solution.values.values())} energy = {solution.energy} frequency = {solution.frequency}\")\n",
        "\n",
        "best_solution = list(solution.values.values())\n",
        "print('numbers=',N)\n",
        "Even_Odd_result(best_solution,N)"
      ],
      "execution_count": 345,
      "outputs": [
        {
          "output_type": "stream",
          "text": [
            "values = [0, 1, 1, 0, 1, 0, 0, 1, 0, 1] energy = -15.0 frequency = 1\n",
            "numbers= [45 96 10 39 62 83 81 86 41 30]\n",
            "\n",
            "\n",
            "Even numbers : [96, 10, 62, 86, 30]\n",
            " Odd numbers : [45, 39, 83, 81, 41]\n"
          ],
          "name": "stdout"
        }
      ]
    },
    {
      "cell_type": "code",
      "metadata": {
        "colab": {
          "base_uri": "https://localhost:8080/"
        },
        "id": "1SyX9iIaj5NN",
        "outputId": "70b24560-72ac-438c-d51b-8a8d3a123d0a"
      },
      "source": [
        "############# Solving with Dwave client  ##################\n",
        "\n",
        "\n",
        "\n",
        "client = DWaveSamplerClient()\n",
        "client.token = \"DEV-d1f6e1d1c38fbe9219ce7713e110736473b657a0\"\n",
        "client.solver = \"Advantage_system1.1\"\n",
        "client.parameters.num_reads = 1000 \n",
        "\n",
        "\n",
        "############   Solution   ######################\n",
        "solver = Solver(client)\n",
        "result = solver.solve(model)\n",
        "for solution in result:\n",
        "    print(f\"nvalues = {list(solution.values.values())} energy = {solution.energy} frequency = {solution.frequency}\")\n",
        "\n",
        "best_solution = list(solution.values.values())\n",
        "print('numbers=',N)\n",
        "Even_Odd_result(best_solution,N)"
      ],
      "execution_count": 348,
      "outputs": [
        {
          "output_type": "stream",
          "text": [
            "nvalues = [0, 1, 1, 0, 1, 0, 0, 1, 0, 1] energy = -15.0 frequency = 361\n",
            "nvalues = [1, 0, 0, 1, 0, 1, 1, 0, 1, 0] energy = -15.0 frequency = 639\n",
            "[1, 0, 0, 1, 0, 1, 1, 0, 1, 0]\n",
            "numbers= [45 96 10 39 62 83 81 86 41 30]\n",
            "\n",
            "\n",
            "Even numbers : [96, 10, 62, 86, 30]\n",
            " Odd numbers : [45, 39, 83, 81, 41]\n"
          ],
          "name": "stdout"
        }
      ]
    },
    {
      "cell_type": "code",
      "metadata": {
        "colab": {
          "base_uri": "https://localhost:8080/"
        },
        "id": "Bky8hgm2r2s7",
        "outputId": "b61a582e-ee08-4786-e70d-29a22808d8d6"
      },
      "source": [
        "############# Solving with Dwave hybrid client  ##################\n",
        "\n",
        "\n",
        "\n",
        "client = LeapHybridSamplerClient()\n",
        "client.token = \"DEV-d1f6e1d1c38fbe9219ce7713e110736473b657a0\"\n",
        "client.solver = \"hybrid_binary_quadratic_model_version2\"\n",
        "# client.parameters.time_limit = 3\n",
        "\n",
        "############   Solution   ######################\n",
        "solver = Solver(client)\n",
        "result = solver.solve(model)\n",
        "for solution in result:\n",
        "    print(f\"nvalues = {list(solution.values.values())} energy = {solution.energy} frequency = {solution.frequency}\")\n",
        "\n",
        "\n",
        "best_solution = list(solution.values.values())\n",
        "print('numbers=',N)\n",
        "Even_Odd_result(best_solution,N)"
      ],
      "execution_count": 347,
      "outputs": [
        {
          "output_type": "stream",
          "text": [
            "nvalues = [1, 0, 0, 1, 0, 1, 1, 0, 1, 0] energy = -15.0 frequency = 1\n",
            "numbers= [45 96 10 39 62 83 81 86 41 30]\n",
            "\n",
            "\n",
            "Even numbers : [96, 10, 62, 86, 30]\n",
            " Odd numbers : [45, 39, 83, 81, 41]\n"
          ],
          "name": "stdout"
        }
      ]
    },
    {
      "cell_type": "code",
      "metadata": {
        "id": "esqUFILgbqJc"
      },
      "source": [
        ""
      ],
      "execution_count": 347,
      "outputs": []
    }
  ]
}