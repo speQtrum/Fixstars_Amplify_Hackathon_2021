{
  "nbformat": 4,
  "nbformat_minor": 0,
  "metadata": {
    "colab": {
      "name": "Submission.ipynb",
      "provenance": [],
      "collapsed_sections": [],
      "authorship_tag": "ABX9TyMnopxtJBBERt2qG8pHcJEJ"
    },
    "kernelspec": {
      "name": "python3",
      "display_name": "Python 3"
    }
  },
  "cells": [
    {
      "cell_type": "code",
      "metadata": {
        "id": "5rvcgjn0fudN"
      },
      "source": [
        "# !pip install amplify\n",
        "# !pip install amplify[extra]"
      ],
      "execution_count": 131,
      "outputs": []
    },
    {
      "cell_type": "code",
      "metadata": {
        "id": "g8tSxup4gLfA"
      },
      "source": [
        "import numpy as np\n",
        "from amplify import BinaryPoly, BinaryMatrix, BinaryQuadraticModel, gen_symbols, Solver\n",
        "from amplify.client import FixstarsClient\n",
        "from amplify.client.ocean import DWaveSamplerClient, LeapHybridSamplerClient\n"
      ],
      "execution_count": 132,
      "outputs": []
    },
    {
      "cell_type": "code",
      "metadata": {
        "colab": {
          "base_uri": "https://localhost:8080/"
        },
        "id": "cejaA7YViGT5",
        "outputId": "e8893cf8-b6f9-4c87-941b-558f17ff24b7"
      },
      "source": [
        "n = 10 # number of inputs\n",
        "\n",
        "N = np.random.randint(1,100,n)\n",
        "print('Input numbers are:\\n',N)"
      ],
      "execution_count": 133,
      "outputs": [
        {
          "output_type": "stream",
          "text": [
            "Input numbers are:\n",
            " [93 49 35 57 30 73  2 70 24 16]\n"
          ],
          "name": "stdout"
        }
      ]
    },
    {
      "cell_type": "code",
      "metadata": {
        "colab": {
          "base_uri": "https://localhost:8080/"
        },
        "id": "sT0s1OsnmZMi",
        "outputId": "5500bbac-97dd-4a72-d5fa-d38a788a395c"
      },
      "source": [
        "def QUBO(N):\n",
        "    k = N.shape[0]\n",
        "    m = BinaryMatrix(k)\n",
        "    for i in range(k):\n",
        "        for j in range(i,k):\n",
        "            m[i,j] = (-1)**(N[i] + N[j])\n",
        "    return (-1)*m\n",
        "\n",
        "\n",
        "qubo = QUBO(N)\n",
        "print(qubo.to_numpy())"
      ],
      "execution_count": 134,
      "outputs": [
        {
          "output_type": "stream",
          "text": [
            "[[-1. -1. -1. -1.  1. -1.  1.  1.  1.  1.]\n",
            " [ 0. -1. -1. -1.  1. -1.  1.  1.  1.  1.]\n",
            " [ 0.  0. -1. -1.  1. -1.  1.  1.  1.  1.]\n",
            " [ 0.  0.  0. -1.  1. -1.  1.  1.  1.  1.]\n",
            " [ 0.  0.  0.  0. -1.  1. -1. -1. -1. -1.]\n",
            " [ 0.  0.  0.  0.  0. -1.  1.  1.  1.  1.]\n",
            " [ 0.  0.  0.  0.  0.  0. -1. -1. -1. -1.]\n",
            " [ 0.  0.  0.  0.  0.  0.  0. -1. -1. -1.]\n",
            " [ 0.  0.  0.  0.  0.  0.  0.  0. -1. -1.]\n",
            " [ 0.  0.  0.  0.  0.  0.  0.  0.  0. -1.]]\n"
          ],
          "name": "stdout"
        }
      ]
    },
    {
      "cell_type": "code",
      "metadata": {
        "colab": {
          "base_uri": "https://localhost:8080/"
        },
        "id": "Iy2QmoSFjerL",
        "outputId": "5534bcff-65b1-4778-f3fb-0f3eba320249"
      },
      "source": [
        "model = BinaryQuadraticModel(qubo)\n",
        "\n",
        "client = FixstarsClient()\n",
        "client.token = \"mBle_KURyYutT.NDbsTpovEeCWf-vScH\"\n",
        "client.parameters.timeout = 1000\n",
        "# client.parameters.outputs.duplicate = True  \n",
        "client.parameters.outputs.num_outputs = 0  \n",
        "\n",
        "######### client hardware property ########\n",
        "print('Total number of allowed bits:',client.num_bits)\n",
        "print('client API:',client.url)\n",
        "print('Fixstars client version:',client.version,'\\n')\n",
        "\n",
        "\n",
        "################## Solution #########################\n",
        "\n",
        "solver = Solver(client)\n",
        "result = solver.solve(model)\n",
        "for solution in result:\n",
        "    print(f\"values = {list(solution.values.values())} energy = {solution.energy} frequency = {solution.frequency}\")\n",
        "print('numbers=',N)"
      ],
      "execution_count": 135,
      "outputs": [
        {
          "output_type": "stream",
          "text": [
            "Total number of allowed bits: 65536\n",
            "client API: https://optigan.fixstars.com/\n",
            "Fixstars client version: v0.3.2 \n",
            "\n",
            "values = [0, 0, 0, 0, 1, 0, 1, 1, 1, 1] energy = -15.0 frequency = 1\n",
            "numbers= [93 49 35 57 30 73  2 70 24 16]\n"
          ],
          "name": "stdout"
        }
      ]
    },
    {
      "cell_type": "code",
      "metadata": {
        "colab": {
          "base_uri": "https://localhost:8080/"
        },
        "id": "1SyX9iIaj5NN",
        "outputId": "9baa1887-9cec-486a-8b3d-7728a165caa0"
      },
      "source": [
        "############# Solving with Dwave client  ##################\n",
        "\n",
        "\n",
        "\n",
        "client = DWaveSamplerClient()\n",
        "client.token = \"DEV-d1f6e1d1c38fbe9219ce7713e110736473b657a0\"\n",
        "client.solver = \"Advantage_system1.1\"\n",
        "client.parameters.num_reads = 1000 \n",
        "\n",
        "\n",
        "############   Solution   ######################\n",
        "solver = Solver(client)\n",
        "result = solver.solve(model)\n",
        "for solution in result:\n",
        "    print(f\"nvalues = {list(solution.values.values())} energy = {solution.energy} frequency = {solution.frequency}\")\n",
        "\n",
        "print('numbers=',N)"
      ],
      "execution_count": 136,
      "outputs": [
        {
          "output_type": "stream",
          "text": [
            "nvalues = [0, 0, 0, 0, 1, 0, 1, 1, 1, 1] energy = -15.0 frequency = 149\n",
            "nvalues = [1, 1, 1, 1, 0, 1, 0, 0, 0, 0] energy = -15.0 frequency = 851\n",
            "numbers= [93 49 35 57 30 73  2 70 24 16]\n"
          ],
          "name": "stdout"
        }
      ]
    },
    {
      "cell_type": "code",
      "metadata": {
        "colab": {
          "base_uri": "https://localhost:8080/"
        },
        "id": "Bky8hgm2r2s7",
        "outputId": "7ade5e28-8ae2-4c31-af60-e9c75b7d3d2a"
      },
      "source": [
        "############# Solving with Dwave hybrid client  ##################\n",
        "\n",
        "\n",
        "\n",
        "client = LeapHybridSamplerClient()\n",
        "client.token = \"DEV-d1f6e1d1c38fbe9219ce7713e110736473b657a0\"\n",
        "client.solver = \"hybrid_binary_quadratic_model_version2\"\n",
        "# client.parameters.time_limit = 3\n",
        "\n",
        "############   Solution   ######################\n",
        "solver = Solver(client)\n",
        "result = solver.solve(model)\n",
        "for solution in result:\n",
        "    print(f\"nvalues = {list(solution.values.values())} energy = {solution.energy} frequency = {solution.frequency}\")\n",
        "\n",
        "print('numbers=',N)"
      ],
      "execution_count": 137,
      "outputs": [
        {
          "output_type": "stream",
          "text": [
            "nvalues = [1, 1, 1, 1, 0, 1, 0, 0, 0, 0] energy = -15.0 frequency = 1\n",
            "numbers= [93 49 35 57 30 73  2 70 24 16]\n"
          ],
          "name": "stdout"
        }
      ]
    },
    {
      "cell_type": "code",
      "metadata": {
        "id": "Jmlqar6cu4CK"
      },
      "source": [
        ""
      ],
      "execution_count": 137,
      "outputs": []
    }
  ]
}